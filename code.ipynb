{
 "cells": [
  {
   "cell_type": "code",
   "execution_count": 1,
   "metadata": {},
   "outputs": [],
   "source": [
    "import pandas as pd\n",
    "import matplotlib.pyplot as plt\n",
    "import seaborn as sns\n",
    "from itertools import product\n",
    "import scipy.stats as ss\n",
    "from sklearn.impute import SimpleImputer\n",
    "from sklearn.utils import resample\n",
    "import numpy as np\n",
    "from sklearn.model_selection import train_test_split\n",
    "from sklearn import linear_model\n",
    "from sklearn.preprocessing import MinMaxScaler"
   ]
  },
  {
   "cell_type": "code",
   "execution_count": 2,
   "metadata": {},
   "outputs": [
    {
     "data": {
      "text/html": [
       "<div>\n",
       "<style scoped>\n",
       "    .dataframe tbody tr th:only-of-type {\n",
       "        vertical-align: middle;\n",
       "    }\n",
       "\n",
       "    .dataframe tbody tr th {\n",
       "        vertical-align: top;\n",
       "    }\n",
       "\n",
       "    .dataframe thead th {\n",
       "        text-align: right;\n",
       "    }\n",
       "</style>\n",
       "<table border=\"1\" class=\"dataframe\">\n",
       "  <thead>\n",
       "    <tr style=\"text-align: right;\">\n",
       "      <th></th>\n",
       "      <th>S.No.</th>\n",
       "      <th>Year</th>\n",
       "      <th>Month</th>\n",
       "      <th>Date</th>\n",
       "      <th>Reason</th>\n",
       "      <th>Education</th>\n",
       "      <th>Sex</th>\n",
       "      <th>Age</th>\n",
       "      <th>Race</th>\n",
       "      <th>Hispanic</th>\n",
       "      <th>Place of incident</th>\n",
       "      <th>Police involvement</th>\n",
       "    </tr>\n",
       "  </thead>\n",
       "  <tbody>\n",
       "    <tr>\n",
       "      <th>0</th>\n",
       "      <td>1</td>\n",
       "      <td>2017</td>\n",
       "      <td>1</td>\n",
       "      <td>06-01-2017</td>\n",
       "      <td>Suicide</td>\n",
       "      <td>Bachelors</td>\n",
       "      <td>Male</td>\n",
       "      <td>35.0</td>\n",
       "      <td>Asian/Pacific Islander</td>\n",
       "      <td>100</td>\n",
       "      <td>Home</td>\n",
       "      <td>0</td>\n",
       "    </tr>\n",
       "    <tr>\n",
       "      <th>1</th>\n",
       "      <td>2</td>\n",
       "      <td>2017</td>\n",
       "      <td>1</td>\n",
       "      <td>19-01-2017</td>\n",
       "      <td>Suicide</td>\n",
       "      <td>Some college</td>\n",
       "      <td>Female</td>\n",
       "      <td>22.0</td>\n",
       "      <td>White</td>\n",
       "      <td>100</td>\n",
       "      <td>Street</td>\n",
       "      <td>0</td>\n",
       "    </tr>\n",
       "    <tr>\n",
       "      <th>2</th>\n",
       "      <td>3</td>\n",
       "      <td>2017</td>\n",
       "      <td>1</td>\n",
       "      <td>01-01-2017</td>\n",
       "      <td>Suicide</td>\n",
       "      <td>Bachelors</td>\n",
       "      <td>Male</td>\n",
       "      <td>61.0</td>\n",
       "      <td>White</td>\n",
       "      <td>100</td>\n",
       "      <td>Other specified</td>\n",
       "      <td>0</td>\n",
       "    </tr>\n",
       "    <tr>\n",
       "      <th>3</th>\n",
       "      <td>4</td>\n",
       "      <td>2017</td>\n",
       "      <td>2</td>\n",
       "      <td>06-02-2017</td>\n",
       "      <td>Suicide</td>\n",
       "      <td>Bachelors</td>\n",
       "      <td>Male</td>\n",
       "      <td>65.0</td>\n",
       "      <td>White</td>\n",
       "      <td>100</td>\n",
       "      <td>Home</td>\n",
       "      <td>0</td>\n",
       "    </tr>\n",
       "    <tr>\n",
       "      <th>4</th>\n",
       "      <td>5</td>\n",
       "      <td>2017</td>\n",
       "      <td>2</td>\n",
       "      <td>09-02-2017</td>\n",
       "      <td>Suicide</td>\n",
       "      <td>High School</td>\n",
       "      <td>Male</td>\n",
       "      <td>32.0</td>\n",
       "      <td>White</td>\n",
       "      <td>100</td>\n",
       "      <td>Other specified</td>\n",
       "      <td>0</td>\n",
       "    </tr>\n",
       "  </tbody>\n",
       "</table>\n",
       "</div>"
      ],
      "text/plain": [
       "   S.No.  Year  Month        Date   Reason     Education     Sex   Age  \\\n",
       "0      1  2017      1  06-01-2017  Suicide     Bachelors    Male  35.0   \n",
       "1      2  2017      1  19-01-2017  Suicide  Some college  Female  22.0   \n",
       "2      3  2017      1  01-01-2017  Suicide     Bachelors    Male  61.0   \n",
       "3      4  2017      2  06-02-2017  Suicide     Bachelors    Male  65.0   \n",
       "4      5  2017      2  09-02-2017  Suicide   High School    Male  32.0   \n",
       "\n",
       "                     Race  Hispanic Place of incident  Police involvement  \n",
       "0  Asian/Pacific Islander       100              Home                   0  \n",
       "1                   White       100            Street                   0  \n",
       "2                   White       100   Other specified                   0  \n",
       "3                   White       100              Home                   0  \n",
       "4                   White       100   Other specified                   0  "
      ]
     },
     "execution_count": 2,
     "metadata": {},
     "output_type": "execute_result"
    }
   ],
   "source": [
    "df = pd.read_csv('./data/Guns incident Data.csv')\n",
    "df.head()"
   ]
  },
  {
   "cell_type": "markdown",
   "metadata": {},
   "source": [
    "# Data cleaning"
   ]
  },
  {
   "cell_type": "code",
   "execution_count": 3,
   "metadata": {},
   "outputs": [
    {
     "data": {
      "text/html": [
       "<div>\n",
       "<style scoped>\n",
       "    .dataframe tbody tr th:only-of-type {\n",
       "        vertical-align: middle;\n",
       "    }\n",
       "\n",
       "    .dataframe tbody tr th {\n",
       "        vertical-align: top;\n",
       "    }\n",
       "\n",
       "    .dataframe thead th {\n",
       "        text-align: right;\n",
       "    }\n",
       "</style>\n",
       "<table border=\"1\" class=\"dataframe\">\n",
       "  <thead>\n",
       "    <tr style=\"text-align: right;\">\n",
       "      <th></th>\n",
       "      <th>Reason</th>\n",
       "      <th>Year</th>\n",
       "      <th>Month</th>\n",
       "      <th>Education</th>\n",
       "      <th>Sex</th>\n",
       "      <th>Age</th>\n",
       "      <th>Race</th>\n",
       "      <th>Place of incident</th>\n",
       "      <th>Police involvement</th>\n",
       "    </tr>\n",
       "  </thead>\n",
       "  <tbody>\n",
       "    <tr>\n",
       "      <th>0</th>\n",
       "      <td>Suicide</td>\n",
       "      <td>2017</td>\n",
       "      <td>1</td>\n",
       "      <td>Bachelors</td>\n",
       "      <td>Male</td>\n",
       "      <td>35.0</td>\n",
       "      <td>Asian/Pacific Islander</td>\n",
       "      <td>Home</td>\n",
       "      <td>0</td>\n",
       "    </tr>\n",
       "    <tr>\n",
       "      <th>1</th>\n",
       "      <td>Suicide</td>\n",
       "      <td>2017</td>\n",
       "      <td>1</td>\n",
       "      <td>Some college</td>\n",
       "      <td>Female</td>\n",
       "      <td>22.0</td>\n",
       "      <td>White</td>\n",
       "      <td>Street</td>\n",
       "      <td>0</td>\n",
       "    </tr>\n",
       "    <tr>\n",
       "      <th>2</th>\n",
       "      <td>Suicide</td>\n",
       "      <td>2017</td>\n",
       "      <td>1</td>\n",
       "      <td>Bachelors</td>\n",
       "      <td>Male</td>\n",
       "      <td>61.0</td>\n",
       "      <td>White</td>\n",
       "      <td>Other specified</td>\n",
       "      <td>0</td>\n",
       "    </tr>\n",
       "    <tr>\n",
       "      <th>3</th>\n",
       "      <td>Suicide</td>\n",
       "      <td>2017</td>\n",
       "      <td>2</td>\n",
       "      <td>Bachelors</td>\n",
       "      <td>Male</td>\n",
       "      <td>65.0</td>\n",
       "      <td>White</td>\n",
       "      <td>Home</td>\n",
       "      <td>0</td>\n",
       "    </tr>\n",
       "    <tr>\n",
       "      <th>4</th>\n",
       "      <td>Suicide</td>\n",
       "      <td>2017</td>\n",
       "      <td>2</td>\n",
       "      <td>High School</td>\n",
       "      <td>Male</td>\n",
       "      <td>32.0</td>\n",
       "      <td>White</td>\n",
       "      <td>Other specified</td>\n",
       "      <td>0</td>\n",
       "    </tr>\n",
       "  </tbody>\n",
       "</table>\n",
       "</div>"
      ],
      "text/plain": [
       "    Reason  Year  Month     Education     Sex   Age                    Race  \\\n",
       "0  Suicide  2017      1     Bachelors    Male  35.0  Asian/Pacific Islander   \n",
       "1  Suicide  2017      1  Some college  Female  22.0                   White   \n",
       "2  Suicide  2017      1     Bachelors    Male  61.0                   White   \n",
       "3  Suicide  2017      2     Bachelors    Male  65.0                   White   \n",
       "4  Suicide  2017      2   High School    Male  32.0                   White   \n",
       "\n",
       "  Place of incident  Police involvement  \n",
       "0              Home                   0  \n",
       "1            Street                   0  \n",
       "2   Other specified                   0  \n",
       "3              Home                   0  \n",
       "4   Other specified                   0  "
      ]
     },
     "execution_count": 3,
     "metadata": {},
     "output_type": "execute_result"
    }
   ],
   "source": [
    "df_clean = df.drop(['S.No.', 'Date', 'Hispanic'], axis=1)\n",
    "df_clean.insert(0, 'Reason', df_clean.pop('Reason'))\n",
    "df_clean.head()"
   ]
  },
  {
   "cell_type": "markdown",
   "metadata": {},
   "source": [
    "# Exploratory Data Analysis"
   ]
  },
  {
   "cell_type": "code",
   "execution_count": 4,
   "metadata": {},
   "outputs": [
    {
     "name": "stdout",
     "output_type": "stream",
     "text": [
      "Percentage of NaN values for each variable:\n",
      "Reason                0.00\n",
      "Year                  0.00\n",
      "Month                 0.00\n",
      "Education             1.41\n",
      "Sex                   0.00\n",
      "Age                   0.02\n",
      "Race                  0.00\n",
      "Place of incident     1.37\n",
      "Police involvement    0.00\n",
      "dtype: float64\n"
     ]
    }
   ],
   "source": [
    "na_percentage = df_clean.isna().sum() / df.shape[0] * 100\n",
    "\n",
    "na_percentage = na_percentage.round(2)\n",
    "print(\"Percentage of NaN values for each variable:\")\n",
    "print(na_percentage)"
   ]
  },
  {
   "cell_type": "code",
   "execution_count": 5,
   "metadata": {},
   "outputs": [
    {
     "name": "stderr",
     "output_type": "stream",
     "text": [
      "C:\\Users\\jing yi\\AppData\\Local\\Temp\\ipykernel_26828\\1487412868.py:5: MatplotlibDeprecationWarning: The seaborn styles shipped by Matplotlib are deprecated since 3.6, as they no longer correspond to the styles shipped by seaborn. However, they will remain available as 'seaborn-v0_8-<style>'. Alternatively, directly use the seaborn API instead.\n",
      "  plt.style.use('seaborn')\n"
     ]
    },
    {
     "data": {
      "image/png": "[encoded data removed]",
      "text/plain": [
       "<Figure size 1500x1500 with 9 Axes>"
      ]
     },
     "metadata": {},
     "output_type": "display_data"
    }
   ],
   "source": [
    "discrete_numerical_var = ['Year','Month','Police involvement']\n",
    "continuous_numerical_var = ['Age']\n",
    "categorical_var = ['Education','Sex','Race','Place of incident','Reason']\n",
    "\n",
    "plt.style.use('seaborn')\n",
    "fig,axs = plt.subplots(3,3, figsize=(15,15))\n",
    "fig.suptitle('Distribution of variables', fontsize = 16)\n",
    "idx = 0\n",
    "\n",
    "for i in range(3):\n",
    "  for j in range(3):\n",
    "    var = df_clean.columns[idx]\n",
    "    if var in discrete_numerical_var:\n",
    "      sns.histplot(data = df, x = var, ax=axs[i,j])\n",
    "      axs[i, j].set_xticks(range(min(df[var]),max(df[var])+1,1))\n",
    "    elif var in continuous_numerical_var:\n",
    "      sns.histplot(data = df, x = var, ax=axs[i,j])\n",
    "    else:\n",
    "      df[var].value_counts().plot(kind='bar', ax=axs[i,j])\n",
    "    axs[i,j].set_xlabel('')\n",
    "    axs[i,j].set_title(var)\n",
    "    idx += 1\n",
    "\n",
    "plt.tight_layout()"
   ]
  },
  {
   "cell_type": "markdown",
   "metadata": {},
   "source": [
    "# Removal of Missing Data #"
   ]
  },
  {
   "cell_type": "code",
   "execution_count": 6,
   "metadata": {},
   "outputs": [
    {
     "name": "stdout",
     "output_type": "stream",
     "text": [
      "(2783, 9)\n",
      "Index(['Education', 'Age', 'Place of incident'], dtype='object')\n"
     ]
    }
   ],
   "source": [
    "rows_with_missing = df_clean[df_clean.isnull().any(axis=1)]\n",
    "print(rows_with_missing.shape)\n",
    "columns_with_missing = df_clean.columns[df_clean.isnull().any()]\n",
    "print(columns_with_missing)"
   ]
  },
  {
   "cell_type": "markdown",
   "metadata": {},
   "source": [
    "### remove all missing data ###"
   ]
  },
  {
   "cell_type": "code",
   "execution_count": 7,
   "metadata": {},
   "outputs": [],
   "source": [
    "df_clean_remove = df_clean.dropna()"
   ]
  },
  {
   "cell_type": "markdown",
   "metadata": {},
   "source": [
    "### impute all missing data ###"
   ]
  },
  {
   "cell_type": "code",
   "execution_count": 8,
   "metadata": {},
   "outputs": [],
   "source": [
    "# Impute ALL Missing Values\n",
    "df_clean_impute = df_clean.copy()\n",
    "\n",
    "# Age\n",
    "age_imputer = SimpleImputer(strategy='median')\n",
    "df_clean_impute['Age'] = age_imputer.fit_transform(df_clean[['Age']])\n",
    "\n",
    "# Education\n",
    "education_counts = df_clean_impute['Education'].value_counts(normalize=True)\n",
    "education_categories = education_counts.index.tolist()\n",
    "education_probs = education_counts.values\n",
    "\n",
    "np.random.seed(1)\n",
    "\n",
    "df_clean_impute['Education'] = df_clean_impute['Education'].apply(\n",
    "    lambda x: np.random.choice(education_categories, p = education_probs) if pd.isnull(x) else x\n",
    ")\n",
    "\n",
    "# Place of incident\n",
    "place_counts = df_clean_impute['Place of incident'].value_counts(normalize=True)\n",
    "place_categories = place_counts.index.tolist()\n",
    "place_probs = place_counts.values\n",
    "\n",
    "np.random.seed(1)\n",
    "\n",
    "df_clean_impute['Place of incident'] = df_clean_impute['Place of incident'].apply(\n",
    "    lambda x: np.random.choice(place_categories, p=place_probs) if pd.isnull(x) else x\n",
    ")"
   ]
  },
  {
   "cell_type": "markdown",
   "metadata": {},
   "source": [
    "# Encoding #"
   ]
  },
  {
   "cell_type": "markdown",
   "metadata": {},
   "source": [
    "### encoding of data where missing values are removed ###"
   ]
  },
  {
   "cell_type": "code",
   "execution_count": 9,
   "metadata": {},
   "outputs": [],
   "source": [
    "cleanup_nums = {\"Education\":     {\"Less than High School\": 0, \"High School\": 1,\"Some college\":2,\"Bachelors\":3}}       \n",
    "df_clean_remove = df_clean_remove.replace(cleanup_nums)\n",
    "\n",
    "#one hot encoding for gender\n",
    "gender_ohe=pd.get_dummies(df_clean_remove.Sex) #gender one hot encoding\n",
    "dftemp=df_clean_remove\n",
    "dftemp=dftemp.drop(columns=[\"Sex\"])\n",
    "dftemp=pd.concat([gender_ohe,dftemp],axis=1)\n",
    "\n",
    "#one hot encoding for race\n",
    "race_ohe=pd.get_dummies(df_clean_remove.Race) #race one hot encoding\n",
    "dftemp=dftemp.drop(columns=[\"Race\"])\n",
    "dftemp=pd.concat([race_ohe,dftemp],axis=1)\n",
    "\n",
    "#one hot encoding for place of incident\n",
    "place_ohe=pd.get_dummies(df_clean_remove[\"Place of incident\"]) #place one hot encoding\n",
    "dftemp=dftemp.drop(columns=[\"Place of incident\"])\n",
    "dftemp= pd.concat([place_ohe,dftemp],axis=1)\n",
    "\n",
    "df_clean_remove = dftemp\n"
   ]
  },
  {
   "cell_type": "markdown",
   "metadata": {},
   "source": [
    "### encoding of data where missing values are imputed ###"
   ]
  },
  {
   "cell_type": "code",
   "execution_count": 10,
   "metadata": {},
   "outputs": [],
   "source": [
    "df_clean_impute = df_clean_impute.replace(cleanup_nums)\n",
    "\n",
    "#one hot encoding for gender\n",
    "gender_ohe=pd.get_dummies(df_clean_impute.Sex) #gender one hot encoding\n",
    "dftemp=df_clean_impute\n",
    "dftemp=dftemp.drop(columns=[\"Sex\"])\n",
    "dftemp=pd.concat([gender_ohe,dftemp],axis=1)\n",
    "\n",
    "#one hot encoding for race\n",
    "race_ohe=pd.get_dummies(df_clean_impute.Race) #race one hot encoding\n",
    "dftemp=dftemp.drop(columns=[\"Race\"])\n",
    "dftemp=pd.concat([race_ohe,dftemp],axis=1)\n",
    "\n",
    "#one hot encoding for place of incident\n",
    "place_ohe=pd.get_dummies(df_clean_impute[\"Place of incident\"]) #place one hot encoding\n",
    "dftemp=dftemp.drop(columns=[\"Place of incident\"])\n",
    "dftemp= pd.concat([place_ohe,dftemp],axis=1)\n",
    "\n",
    "df_clean_impute = dftemp"
   ]
  },
  {
   "cell_type": "markdown",
   "metadata": {},
   "source": [
    "# Splitting Into Test and Train Datasets #"
   ]
  },
  {
   "cell_type": "code",
   "execution_count": 11,
   "metadata": {},
   "outputs": [],
   "source": [
    "''' 80-20 ratio used, 80% data used for training, 20% used for testing '''\n",
    "df_clean_impute_train, df_clean_impute_test = train_test_split(df_clean_impute, test_size=0.2, random_state=42)\n",
    "df_clean_remove_train, df_clean_remove_test = train_test_split(df_clean_remove, test_size=0.2, random_state=42)"
   ]
  },
  {
   "cell_type": "markdown",
   "metadata": {},
   "source": [
    "# Resampling Under-represented Classes #"
   ]
  },
  {
   "cell_type": "markdown",
   "metadata": {},
   "source": [
    "### for imputed data ###"
   ]
  },
  {
   "cell_type": "code",
   "execution_count": 12,
   "metadata": {},
   "outputs": [],
   "source": [
    "#resampling for training data \n",
    "\n",
    "#df_clean_impute_train['Reason'].value_counts(), majority class for imputed training data is suicide \n",
    "mclass_len = df_clean_impute_train[df_clean_impute_train['Reason']=='Suicide'].shape[0]\n",
    "'''underrepresented classes are homicide, accidental, undetermined\n",
    "with majority class suicide having 50580 rows '''\n",
    "\n",
    "majority_class_suicide = df_clean_impute_train[df_clean_impute_train['Reason']=='Suicide']\n",
    "minority_class_homicide = df_clean_impute_train[df_clean_impute_train['Reason']=='Homicide']\n",
    "minority_class_accidental = df_clean_impute_train[df_clean_impute_train['Reason']=='Accidental']\n",
    "minority_class_undetermined= df_clean_impute_train[df_clean_impute_train['Reason']=='Undetermined']\n",
    "\n",
    "df_ci_oversamp_hom = resample(minority_class_homicide, replace=True, n_samples = mclass_len, random_state=42)\n",
    "df_ci_oversamp_acc = resample(minority_class_accidental, replace=True, n_samples = mclass_len, random_state=42)\n",
    "df_ci_oversamp_und = resample(minority_class_undetermined, replace=True, n_samples = mclass_len, random_state=42)\n",
    "\n",
    "df_clean_impute_train= pd.concat([majority_class_suicide,df_ci_oversamp_hom,df_ci_oversamp_acc, df_ci_oversamp_und])\n",
    "\n",
    "\n",
    "#resampling for testing data \n",
    "\n",
    "#df_clean_impute_test['Reason'].value_counts(), majority class for imputed training data is suicide \n",
    "mclass_len = df_clean_impute_test[df_clean_impute_test['Reason']=='Suicide'].shape[0]\n",
    "'''underrepresented classes are homicide, accidental, undetermined\n",
    "with majority class suicide having 50580 rows '''\n",
    "\n",
    "majority_class_suicide = df_clean_impute_test[df_clean_impute_test['Reason']=='Suicide']\n",
    "minority_class_homicide = df_clean_impute_test[df_clean_impute_test['Reason']=='Homicide']\n",
    "minority_class_accidental = df_clean_impute_test[df_clean_impute_test['Reason']=='Accidental']\n",
    "minority_class_undetermined= df_clean_impute_test[df_clean_impute_test['Reason']=='Undetermined']\n",
    "\n",
    "df_ci_oversamp_hom = resample(minority_class_homicide, replace=True, n_samples = mclass_len, random_state=42)\n",
    "df_ci_oversamp_acc = resample(minority_class_accidental, replace=True, n_samples = mclass_len, random_state=42)\n",
    "df_ci_oversamp_und = resample(minority_class_undetermined, replace=True, n_samples = mclass_len, random_state=42)\n",
    "\n",
    "df_clean_impute_test= pd.concat([majority_class_suicide,df_ci_oversamp_hom,df_ci_oversamp_acc, df_ci_oversamp_und])"
   ]
  },
  {
   "cell_type": "markdown",
   "metadata": {},
   "source": [
    "### for data where missing values are removed ###"
   ]
  },
  {
   "cell_type": "code",
   "execution_count": 13,
   "metadata": {},
   "outputs": [],
   "source": [
    "#resampling for training data \n",
    "\n",
    "#df_clean_remove_train['Reason'].value_counts(), majority class for imputed training data is suicide \n",
    "mclass_len = df_clean_remove_train[df_clean_remove_train['Reason']=='Suicide'].shape[0]\n",
    "'''underrepresented classes are homicide, accidental, undetermined with majority class suicide having 49818 rows '''\n",
    "\n",
    "majority_class_suicide = df_clean_remove_train[df_clean_remove_train['Reason']=='Suicide']\n",
    "minority_class_homicide = df_clean_remove_train[df_clean_remove_train['Reason']=='Homicide']\n",
    "minority_class_accidental = df_clean_remove_train[df_clean_remove_train['Reason']=='Accidental']\n",
    "minority_class_undetermined= df_clean_remove_train[df_clean_remove_train['Reason']=='Undetermined']\n",
    "\n",
    "df_cr_oversamp_hom = resample(minority_class_homicide, replace=True, n_samples = mclass_len, random_state=4) #df_cleanremove_...\n",
    "df_cr_oversamp_acc = resample(minority_class_accidental, replace=True, n_samples = mclass_len, random_state=4)\n",
    "df_cr_oversamp_und = resample(minority_class_undetermined, replace=True, n_samples = mclass_len, random_state=4)\n",
    "\n",
    "df_clean_remove_train= pd.concat([majority_class_suicide,df_cr_oversamp_hom,df_cr_oversamp_acc, df_cr_oversamp_und])\n",
    "\n",
    "#resampling for testing data \n",
    "\n",
    "#df_clean_remove_test['Reason'].value_counts(), majority class for imputed training data is suicide \n",
    "mclass_len = df_clean_remove_test[df_clean_remove_test['Reason']=='Suicide'].shape[0]\n",
    "'''underrepresented classes are homicide, accidental, undetermined with majority class suicide having 12473 rows '''\n",
    "\n",
    "majority_class_suicide = df_clean_remove_test[df_clean_remove_test['Reason']=='Suicide']\n",
    "minority_class_homicide = df_clean_remove_test[df_clean_remove_test['Reason']=='Homicide']\n",
    "minority_class_accidental = df_clean_remove_test[df_clean_remove_test['Reason']=='Accidental']\n",
    "minority_class_undetermined= df_clean_remove_test[df_clean_remove_test['Reason']=='Undetermined']\n",
    "\n",
    "df_cr_oversamp_hom = resample(minority_class_homicide, replace=True, n_samples = mclass_len, random_state=42)\n",
    "df_cr_oversamp_acc = resample(minority_class_accidental, replace=True, n_samples = mclass_len, random_state=42)\n",
    "df_cr_oversamp_und = resample(minority_class_undetermined, replace=True, n_samples = mclass_len, random_state=42)\n",
    "\n",
    "df_clean_remove_test= pd.concat([majority_class_suicide,df_cr_oversamp_hom,df_cr_oversamp_acc, df_cr_oversamp_und])"
   ]
  },
  {
   "cell_type": "code",
   "execution_count": 14,
   "metadata": {},
   "outputs": [
    {
     "data": {
      "text/html": [
       "<div>\n",
       "<style scoped>\n",
       "    .dataframe tbody tr th:only-of-type {\n",
       "        vertical-align: middle;\n",
       "    }\n",
       "\n",
       "    .dataframe tbody tr th {\n",
       "        vertical-align: top;\n",
       "    }\n",
       "\n",
       "    .dataframe thead th {\n",
       "        text-align: right;\n",
       "    }\n",
       "</style>\n",
       "<table border=\"1\" class=\"dataframe\">\n",
       "  <thead>\n",
       "    <tr style=\"text-align: right;\">\n",
       "      <th></th>\n",
       "      <th>Farm</th>\n",
       "      <th>Home</th>\n",
       "      <th>Industrial/construction</th>\n",
       "      <th>Other specified</th>\n",
       "      <th>Other unspecified</th>\n",
       "      <th>Residential institution</th>\n",
       "      <th>School/instiution</th>\n",
       "      <th>Sports</th>\n",
       "      <th>Street</th>\n",
       "      <th>Trade/service area</th>\n",
       "      <th>...</th>\n",
       "      <th>Native American/Native Alaskan</th>\n",
       "      <th>White</th>\n",
       "      <th>Female</th>\n",
       "      <th>Male</th>\n",
       "      <th>Reason</th>\n",
       "      <th>Year</th>\n",
       "      <th>Month</th>\n",
       "      <th>Education</th>\n",
       "      <th>Age</th>\n",
       "      <th>Police involvement</th>\n",
       "    </tr>\n",
       "  </thead>\n",
       "  <tbody>\n",
       "    <tr>\n",
       "      <th>73540</th>\n",
       "      <td>False</td>\n",
       "      <td>True</td>\n",
       "      <td>False</td>\n",
       "      <td>False</td>\n",
       "      <td>False</td>\n",
       "      <td>False</td>\n",
       "      <td>False</td>\n",
       "      <td>False</td>\n",
       "      <td>False</td>\n",
       "      <td>False</td>\n",
       "      <td>...</td>\n",
       "      <td>False</td>\n",
       "      <td>True</td>\n",
       "      <td>False</td>\n",
       "      <td>True</td>\n",
       "      <td>Suicide</td>\n",
       "      <td>2019</td>\n",
       "      <td>12</td>\n",
       "      <td>3</td>\n",
       "      <td>93.0</td>\n",
       "      <td>0</td>\n",
       "    </tr>\n",
       "    <tr>\n",
       "      <th>50656</th>\n",
       "      <td>False</td>\n",
       "      <td>True</td>\n",
       "      <td>False</td>\n",
       "      <td>False</td>\n",
       "      <td>False</td>\n",
       "      <td>False</td>\n",
       "      <td>False</td>\n",
       "      <td>False</td>\n",
       "      <td>False</td>\n",
       "      <td>False</td>\n",
       "      <td>...</td>\n",
       "      <td>False</td>\n",
       "      <td>True</td>\n",
       "      <td>False</td>\n",
       "      <td>True</td>\n",
       "      <td>Suicide</td>\n",
       "      <td>2018</td>\n",
       "      <td>5</td>\n",
       "      <td>0</td>\n",
       "      <td>40.0</td>\n",
       "      <td>0</td>\n",
       "    </tr>\n",
       "    <tr>\n",
       "      <th>72784</th>\n",
       "      <td>False</td>\n",
       "      <td>True</td>\n",
       "      <td>False</td>\n",
       "      <td>False</td>\n",
       "      <td>False</td>\n",
       "      <td>False</td>\n",
       "      <td>False</td>\n",
       "      <td>False</td>\n",
       "      <td>False</td>\n",
       "      <td>False</td>\n",
       "      <td>...</td>\n",
       "      <td>False</td>\n",
       "      <td>True</td>\n",
       "      <td>False</td>\n",
       "      <td>True</td>\n",
       "      <td>Suicide</td>\n",
       "      <td>2019</td>\n",
       "      <td>6</td>\n",
       "      <td>3</td>\n",
       "      <td>72.0</td>\n",
       "      <td>0</td>\n",
       "    </tr>\n",
       "    <tr>\n",
       "      <th>58801</th>\n",
       "      <td>False</td>\n",
       "      <td>False</td>\n",
       "      <td>False</td>\n",
       "      <td>False</td>\n",
       "      <td>True</td>\n",
       "      <td>False</td>\n",
       "      <td>False</td>\n",
       "      <td>False</td>\n",
       "      <td>False</td>\n",
       "      <td>False</td>\n",
       "      <td>...</td>\n",
       "      <td>False</td>\n",
       "      <td>True</td>\n",
       "      <td>False</td>\n",
       "      <td>True</td>\n",
       "      <td>Suicide</td>\n",
       "      <td>2018</td>\n",
       "      <td>8</td>\n",
       "      <td>1</td>\n",
       "      <td>63.0</td>\n",
       "      <td>0</td>\n",
       "    </tr>\n",
       "    <tr>\n",
       "      <th>23181</th>\n",
       "      <td>False</td>\n",
       "      <td>True</td>\n",
       "      <td>False</td>\n",
       "      <td>False</td>\n",
       "      <td>False</td>\n",
       "      <td>False</td>\n",
       "      <td>False</td>\n",
       "      <td>False</td>\n",
       "      <td>False</td>\n",
       "      <td>False</td>\n",
       "      <td>...</td>\n",
       "      <td>False</td>\n",
       "      <td>True</td>\n",
       "      <td>True</td>\n",
       "      <td>False</td>\n",
       "      <td>Suicide</td>\n",
       "      <td>2017</td>\n",
       "      <td>12</td>\n",
       "      <td>1</td>\n",
       "      <td>29.0</td>\n",
       "      <td>0</td>\n",
       "    </tr>\n",
       "    <tr>\n",
       "      <th>...</th>\n",
       "      <td>...</td>\n",
       "      <td>...</td>\n",
       "      <td>...</td>\n",
       "      <td>...</td>\n",
       "      <td>...</td>\n",
       "      <td>...</td>\n",
       "      <td>...</td>\n",
       "      <td>...</td>\n",
       "      <td>...</td>\n",
       "      <td>...</td>\n",
       "      <td>...</td>\n",
       "      <td>...</td>\n",
       "      <td>...</td>\n",
       "      <td>...</td>\n",
       "      <td>...</td>\n",
       "      <td>...</td>\n",
       "      <td>...</td>\n",
       "      <td>...</td>\n",
       "      <td>...</td>\n",
       "      <td>...</td>\n",
       "      <td>...</td>\n",
       "    </tr>\n",
       "    <tr>\n",
       "      <th>47536</th>\n",
       "      <td>False</td>\n",
       "      <td>False</td>\n",
       "      <td>False</td>\n",
       "      <td>False</td>\n",
       "      <td>True</td>\n",
       "      <td>False</td>\n",
       "      <td>False</td>\n",
       "      <td>False</td>\n",
       "      <td>False</td>\n",
       "      <td>False</td>\n",
       "      <td>...</td>\n",
       "      <td>False</td>\n",
       "      <td>False</td>\n",
       "      <td>True</td>\n",
       "      <td>False</td>\n",
       "      <td>Undetermined</td>\n",
       "      <td>2018</td>\n",
       "      <td>6</td>\n",
       "      <td>0</td>\n",
       "      <td>6.0</td>\n",
       "      <td>0</td>\n",
       "    </tr>\n",
       "    <tr>\n",
       "      <th>5082</th>\n",
       "      <td>False</td>\n",
       "      <td>True</td>\n",
       "      <td>False</td>\n",
       "      <td>False</td>\n",
       "      <td>False</td>\n",
       "      <td>False</td>\n",
       "      <td>False</td>\n",
       "      <td>False</td>\n",
       "      <td>False</td>\n",
       "      <td>False</td>\n",
       "      <td>...</td>\n",
       "      <td>False</td>\n",
       "      <td>True</td>\n",
       "      <td>False</td>\n",
       "      <td>True</td>\n",
       "      <td>Undetermined</td>\n",
       "      <td>2017</td>\n",
       "      <td>11</td>\n",
       "      <td>1</td>\n",
       "      <td>69.0</td>\n",
       "      <td>0</td>\n",
       "    </tr>\n",
       "    <tr>\n",
       "      <th>96162</th>\n",
       "      <td>False</td>\n",
       "      <td>False</td>\n",
       "      <td>False</td>\n",
       "      <td>False</td>\n",
       "      <td>True</td>\n",
       "      <td>False</td>\n",
       "      <td>False</td>\n",
       "      <td>False</td>\n",
       "      <td>False</td>\n",
       "      <td>False</td>\n",
       "      <td>...</td>\n",
       "      <td>False</td>\n",
       "      <td>True</td>\n",
       "      <td>False</td>\n",
       "      <td>True</td>\n",
       "      <td>Undetermined</td>\n",
       "      <td>2019</td>\n",
       "      <td>6</td>\n",
       "      <td>1</td>\n",
       "      <td>19.0</td>\n",
       "      <td>0</td>\n",
       "    </tr>\n",
       "    <tr>\n",
       "      <th>99811</th>\n",
       "      <td>False</td>\n",
       "      <td>True</td>\n",
       "      <td>False</td>\n",
       "      <td>False</td>\n",
       "      <td>False</td>\n",
       "      <td>False</td>\n",
       "      <td>False</td>\n",
       "      <td>False</td>\n",
       "      <td>False</td>\n",
       "      <td>False</td>\n",
       "      <td>...</td>\n",
       "      <td>False</td>\n",
       "      <td>True</td>\n",
       "      <td>False</td>\n",
       "      <td>True</td>\n",
       "      <td>Undetermined</td>\n",
       "      <td>2019</td>\n",
       "      <td>4</td>\n",
       "      <td>2</td>\n",
       "      <td>30.0</td>\n",
       "      <td>0</td>\n",
       "    </tr>\n",
       "    <tr>\n",
       "      <th>79239</th>\n",
       "      <td>False</td>\n",
       "      <td>True</td>\n",
       "      <td>False</td>\n",
       "      <td>False</td>\n",
       "      <td>False</td>\n",
       "      <td>False</td>\n",
       "      <td>False</td>\n",
       "      <td>False</td>\n",
       "      <td>False</td>\n",
       "      <td>False</td>\n",
       "      <td>...</td>\n",
       "      <td>False</td>\n",
       "      <td>True</td>\n",
       "      <td>False</td>\n",
       "      <td>True</td>\n",
       "      <td>Undetermined</td>\n",
       "      <td>2019</td>\n",
       "      <td>5</td>\n",
       "      <td>1</td>\n",
       "      <td>24.0</td>\n",
       "      <td>0</td>\n",
       "    </tr>\n",
       "  </tbody>\n",
       "</table>\n",
       "<p>199272 rows × 23 columns</p>\n",
       "</div>"
      ],
      "text/plain": [
       "        Farm   Home  Industrial/construction  Other specified  \\\n",
       "73540  False   True                    False            False   \n",
       "50656  False   True                    False            False   \n",
       "72784  False   True                    False            False   \n",
       "58801  False  False                    False            False   \n",
       "23181  False   True                    False            False   \n",
       "...      ...    ...                      ...              ...   \n",
       "47536  False  False                    False            False   \n",
       "5082   False   True                    False            False   \n",
       "96162  False  False                    False            False   \n",
       "99811  False   True                    False            False   \n",
       "79239  False   True                    False            False   \n",
       "\n",
       "       Other unspecified  Residential institution  School/instiution  Sports  \\\n",
       "73540              False                    False              False   False   \n",
       "50656              False                    False              False   False   \n",
       "72784              False                    False              False   False   \n",
       "58801               True                    False              False   False   \n",
       "23181              False                    False              False   False   \n",
       "...                  ...                      ...                ...     ...   \n",
       "47536               True                    False              False   False   \n",
       "5082               False                    False              False   False   \n",
       "96162               True                    False              False   False   \n",
       "99811              False                    False              False   False   \n",
       "79239              False                    False              False   False   \n",
       "\n",
       "       Street  Trade/service area  ...  Native American/Native Alaskan  White  \\\n",
       "73540   False               False  ...                           False   True   \n",
       "50656   False               False  ...                           False   True   \n",
       "72784   False               False  ...                           False   True   \n",
       "58801   False               False  ...                           False   True   \n",
       "23181   False               False  ...                           False   True   \n",
       "...       ...                 ...  ...                             ...    ...   \n",
       "47536   False               False  ...                           False  False   \n",
       "5082    False               False  ...                           False   True   \n",
       "96162   False               False  ...                           False   True   \n",
       "99811   False               False  ...                           False   True   \n",
       "79239   False               False  ...                           False   True   \n",
       "\n",
       "       Female   Male        Reason  Year  Month Education   Age  \\\n",
       "73540   False   True       Suicide  2019     12         3  93.0   \n",
       "50656   False   True       Suicide  2018      5         0  40.0   \n",
       "72784   False   True       Suicide  2019      6         3  72.0   \n",
       "58801   False   True       Suicide  2018      8         1  63.0   \n",
       "23181    True  False       Suicide  2017     12         1  29.0   \n",
       "...       ...    ...           ...   ...    ...       ...   ...   \n",
       "47536    True  False  Undetermined  2018      6         0   6.0   \n",
       "5082    False   True  Undetermined  2017     11         1  69.0   \n",
       "96162   False   True  Undetermined  2019      6         1  19.0   \n",
       "99811   False   True  Undetermined  2019      4         2  30.0   \n",
       "79239   False   True  Undetermined  2019      5         1  24.0   \n",
       "\n",
       "       Police involvement  \n",
       "73540                   0  \n",
       "50656                   0  \n",
       "72784                   0  \n",
       "58801                   0  \n",
       "23181                   0  \n",
       "...                   ...  \n",
       "47536                   0  \n",
       "5082                    0  \n",
       "96162                   0  \n",
       "99811                   0  \n",
       "79239                   0  \n",
       "\n",
       "[199272 rows x 23 columns]"
      ]
     },
     "execution_count": 14,
     "metadata": {},
     "output_type": "execute_result"
    }
   ],
   "source": [
    "df_clean_remove_train"
   ]
  },
  {
   "cell_type": "code",
   "execution_count": 15,
   "metadata": {},
   "outputs": [
    {
     "name": "stdout",
     "output_type": "stream",
     "text": [
      "49892\n"
     ]
    }
   ],
   "source": [
    "'''testing\n",
    "print(df_clean_impute_train.shape[0])\n",
    "print(df_clean_impute_test.shape[0])\n",
    "print(df_clean_remove_train.shape[0])\n",
    "print(df_clean_remove_test.shape[0])\n",
    "print(df_clean_impute_train.shape[0]+df_clean_impute_test.shape[0])\n",
    "print(df_clean_remove_train.shape[0]+df_clean_remove_test.shape[0]) #smaller cause some data points for maj class suicide is removed\n",
    "df_clean_remove_test[df_clean_remove_test['Reason']=='Suicide'].shape[0]*4\n",
    "'''\n",
    "print(df_clean_remove_test.shape[0])"
   ]
  },
  {
   "cell_type": "markdown",
   "metadata": {},
   "source": [
    "# Multi-Class Logsitic Regression for Data where Missing Values are Removed #"
   ]
  },
  {
   "cell_type": "code",
   "execution_count": 16,
   "metadata": {},
   "outputs": [
    {
     "data": {
      "text/html": [
       "<style>#sk-container-id-1 {color: black;}#sk-container-id-1 pre{padding: 0;}#sk-container-id-1 div.sk-toggleable {background-color: white;}#sk-container-id-1 label.sk-toggleable__label {cursor: pointer;display: block;width: 100%;margin-bottom: 0;padding: 0.3em;box-sizing: border-box;text-align: center;}#sk-container-id-1 label.sk-toggleable__label-arrow:before {content: \"▸\";float: left;margin-right: 0.25em;color: #696969;}#sk-container-id-1 label.sk-toggleable__label-arrow:hover:before {color: black;}#sk-container-id-1 div.sk-estimator:hover label.sk-toggleable__label-arrow:before {color: black;}#sk-container-id-1 div.sk-toggleable__content {max-height: 0;max-width: 0;overflow: hidden;text-align: left;background-color: #f0f8ff;}#sk-container-id-1 div.sk-toggleable__content pre {margin: 0.2em;color: black;border-radius: 0.25em;background-color: #f0f8ff;}#sk-container-id-1 input.sk-toggleable__control:checked~div.sk-toggleable__content {max-height: 200px;max-width: 100%;overflow: auto;}#sk-container-id-1 input.sk-toggleable__control:checked~label.sk-toggleable__label-arrow:before {content: \"▾\";}#sk-container-id-1 div.sk-estimator input.sk-toggleable__control:checked~label.sk-toggleable__label {background-color: #d4ebff;}#sk-container-id-1 div.sk-label input.sk-toggleable__control:checked~label.sk-toggleable__label {background-color: #d4ebff;}#sk-container-id-1 input.sk-hidden--visually {border: 0;clip: rect(1px 1px 1px 1px);clip: rect(1px, 1px, 1px, 1px);height: 1px;margin: -1px;overflow: hidden;padding: 0;position: absolute;width: 1px;}#sk-container-id-1 div.sk-estimator {font-family: monospace;background-color: #f0f8ff;border: 1px dotted black;border-radius: 0.25em;box-sizing: border-box;margin-bottom: 0.5em;}#sk-container-id-1 div.sk-estimator:hover {background-color: #d4ebff;}#sk-container-id-1 div.sk-parallel-item::after {content: \"\";width: 100%;border-bottom: 1px solid gray;flex-grow: 1;}#sk-container-id-1 div.sk-label:hover label.sk-toggleable__label {background-color: #d4ebff;}#sk-container-id-1 div.sk-serial::before {content: \"\";position: absolute;border-left: 1px solid gray;box-sizing: border-box;top: 0;bottom: 0;left: 50%;z-index: 0;}#sk-container-id-1 div.sk-serial {display: flex;flex-direction: column;align-items: center;background-color: white;padding-right: 0.2em;padding-left: 0.2em;position: relative;}#sk-container-id-1 div.sk-item {position: relative;z-index: 1;}#sk-container-id-1 div.sk-parallel {display: flex;align-items: stretch;justify-content: center;background-color: white;position: relative;}#sk-container-id-1 div.sk-item::before, #sk-container-id-1 div.sk-parallel-item::before {content: \"\";position: absolute;border-left: 1px solid gray;box-sizing: border-box;top: 0;bottom: 0;left: 50%;z-index: -1;}#sk-container-id-1 div.sk-parallel-item {display: flex;flex-direction: column;z-index: 1;position: relative;background-color: white;}#sk-container-id-1 div.sk-parallel-item:first-child::after {align-self: flex-end;width: 50%;}#sk-container-id-1 div.sk-parallel-item:last-child::after {align-self: flex-start;width: 50%;}#sk-container-id-1 div.sk-parallel-item:only-child::after {width: 0;}#sk-container-id-1 div.sk-dashed-wrapped {border: 1px dashed gray;margin: 0 0.4em 0.5em 0.4em;box-sizing: border-box;padding-bottom: 0.4em;background-color: white;}#sk-container-id-1 div.sk-label label {font-family: monospace;font-weight: bold;display: inline-block;line-height: 1.2em;}#sk-container-id-1 div.sk-label-container {text-align: center;}#sk-container-id-1 div.sk-container {/* jupyter's `normalize.less` sets `[hidden] { display: none; }` but bootstrap.min.css set `[hidden] { display: none !important; }` so we also need the `!important` here to be able to override the default hidden behavior on the sphinx rendered scikit-learn.org. See: https://github.com/scikit-learn/scikit-learn/issues/21755 */display: inline-block !important;position: relative;}#sk-container-id-1 div.sk-text-repr-fallback {display: none;}</style><div id=\"sk-container-id-1\" class=\"sk-top-container\"><div class=\"sk-text-repr-fallback\"><pre>LogisticRegression(multi_class=&#x27;ovr&#x27;, solver=&#x27;liblinear&#x27;)</pre><b>In a Jupyter environment, please rerun this cell to show the HTML representation or trust the notebook. <br />On GitHub, the HTML representation is unable to render, please try loading this page with nbviewer.org.</b></div><div class=\"sk-container\" hidden><div class=\"sk-item\"><div class=\"sk-estimator sk-toggleable\"><input class=\"sk-toggleable__control sk-hidden--visually\" id=\"sk-estimator-id-1\" type=\"checkbox\" checked><label for=\"sk-estimator-id-1\" class=\"sk-toggleable__label sk-toggleable__label-arrow\">LogisticRegression</label><div class=\"sk-toggleable__content\"><pre>LogisticRegression(multi_class=&#x27;ovr&#x27;, solver=&#x27;liblinear&#x27;)</pre></div></div></div></div></div>"
      ],
      "text/plain": [
       "LogisticRegression(multi_class='ovr', solver='liblinear')"
      ]
     },
     "execution_count": 16,
     "metadata": {},
     "output_type": "execute_result"
    }
   ],
   "source": [
    "log_model = linear_model.LogisticRegression(multi_class='ovr', solver='liblinear')\n",
    "x_df_crtrain = df_clean_remove_train.loc[:, df_clean_remove_train.columns != \"Reason\"]\n",
    "y_df_crtrain = df_clean_remove_train[\"Reason\"]\n",
    "x_df_crtest = df_clean_remove_test.loc[:, df_clean_remove_train.columns != \"Reason\"]\n",
    "y_df_crtest = df_clean_remove_test[\"Reason\"]\n",
    "log_model.fit(x_df_crtrain,y_df_crtrain)"
   ]
  },
  {
   "cell_type": "code",
   "execution_count": 17,
   "metadata": {},
   "outputs": [
    {
     "data": {
      "text/plain": [
       "0.45774873727250864"
      ]
     },
     "execution_count": 17,
     "metadata": {},
     "output_type": "execute_result"
    }
   ],
   "source": [
    "log_model.score(x_df_crtest,y_df_crtest)\n",
    "#very low accuracy"
   ]
  },
  {
   "cell_type": "code",
   "execution_count": 18,
   "metadata": {},
   "outputs": [],
   "source": [
    "def minmaxscaling(df):\n",
    "    scaler = MinMaxScaler()  \n",
    "    scaled_df = pd.DataFrame(scaler.fit_transform(df), columns=df.columns)\n",
    "    return scaled_df"
   ]
  },
  {
   "cell_type": "code",
   "execution_count": 19,
   "metadata": {},
   "outputs": [
    {
     "data": {
      "text/html": [
       "<style>#sk-container-id-2 {color: black;}#sk-container-id-2 pre{padding: 0;}#sk-container-id-2 div.sk-toggleable {background-color: white;}#sk-container-id-2 label.sk-toggleable__label {cursor: pointer;display: block;width: 100%;margin-bottom: 0;padding: 0.3em;box-sizing: border-box;text-align: center;}#sk-container-id-2 label.sk-toggleable__label-arrow:before {content: \"▸\";float: left;margin-right: 0.25em;color: #696969;}#sk-container-id-2 label.sk-toggleable__label-arrow:hover:before {color: black;}#sk-container-id-2 div.sk-estimator:hover label.sk-toggleable__label-arrow:before {color: black;}#sk-container-id-2 div.sk-toggleable__content {max-height: 0;max-width: 0;overflow: hidden;text-align: left;background-color: #f0f8ff;}#sk-container-id-2 div.sk-toggleable__content pre {margin: 0.2em;color: black;border-radius: 0.25em;background-color: #f0f8ff;}#sk-container-id-2 input.sk-toggleable__control:checked~div.sk-toggleable__content {max-height: 200px;max-width: 100%;overflow: auto;}#sk-container-id-2 input.sk-toggleable__control:checked~label.sk-toggleable__label-arrow:before {content: \"▾\";}#sk-container-id-2 div.sk-estimator input.sk-toggleable__control:checked~label.sk-toggleable__label {background-color: #d4ebff;}#sk-container-id-2 div.sk-label input.sk-toggleable__control:checked~label.sk-toggleable__label {background-color: #d4ebff;}#sk-container-id-2 input.sk-hidden--visually {border: 0;clip: rect(1px 1px 1px 1px);clip: rect(1px, 1px, 1px, 1px);height: 1px;margin: -1px;overflow: hidden;padding: 0;position: absolute;width: 1px;}#sk-container-id-2 div.sk-estimator {font-family: monospace;background-color: #f0f8ff;border: 1px dotted black;border-radius: 0.25em;box-sizing: border-box;margin-bottom: 0.5em;}#sk-container-id-2 div.sk-estimator:hover {background-color: #d4ebff;}#sk-container-id-2 div.sk-parallel-item::after {content: \"\";width: 100%;border-bottom: 1px solid gray;flex-grow: 1;}#sk-container-id-2 div.sk-label:hover label.sk-toggleable__label {background-color: #d4ebff;}#sk-container-id-2 div.sk-serial::before {content: \"\";position: absolute;border-left: 1px solid gray;box-sizing: border-box;top: 0;bottom: 0;left: 50%;z-index: 0;}#sk-container-id-2 div.sk-serial {display: flex;flex-direction: column;align-items: center;background-color: white;padding-right: 0.2em;padding-left: 0.2em;position: relative;}#sk-container-id-2 div.sk-item {position: relative;z-index: 1;}#sk-container-id-2 div.sk-parallel {display: flex;align-items: stretch;justify-content: center;background-color: white;position: relative;}#sk-container-id-2 div.sk-item::before, #sk-container-id-2 div.sk-parallel-item::before {content: \"\";position: absolute;border-left: 1px solid gray;box-sizing: border-box;top: 0;bottom: 0;left: 50%;z-index: -1;}#sk-container-id-2 div.sk-parallel-item {display: flex;flex-direction: column;z-index: 1;position: relative;background-color: white;}#sk-container-id-2 div.sk-parallel-item:first-child::after {align-self: flex-end;width: 50%;}#sk-container-id-2 div.sk-parallel-item:last-child::after {align-self: flex-start;width: 50%;}#sk-container-id-2 div.sk-parallel-item:only-child::after {width: 0;}#sk-container-id-2 div.sk-dashed-wrapped {border: 1px dashed gray;margin: 0 0.4em 0.5em 0.4em;box-sizing: border-box;padding-bottom: 0.4em;background-color: white;}#sk-container-id-2 div.sk-label label {font-family: monospace;font-weight: bold;display: inline-block;line-height: 1.2em;}#sk-container-id-2 div.sk-label-container {text-align: center;}#sk-container-id-2 div.sk-container {/* jupyter's `normalize.less` sets `[hidden] { display: none; }` but bootstrap.min.css set `[hidden] { display: none !important; }` so we also need the `!important` here to be able to override the default hidden behavior on the sphinx rendered scikit-learn.org. See: https://github.com/scikit-learn/scikit-learn/issues/21755 */display: inline-block !important;position: relative;}#sk-container-id-2 div.sk-text-repr-fallback {display: none;}</style><div id=\"sk-container-id-2\" class=\"sk-top-container\"><div class=\"sk-text-repr-fallback\"><pre>LogisticRegression(multi_class=&#x27;ovr&#x27;, solver=&#x27;liblinear&#x27;)</pre><b>In a Jupyter environment, please rerun this cell to show the HTML representation or trust the notebook. <br />On GitHub, the HTML representation is unable to render, please try loading this page with nbviewer.org.</b></div><div class=\"sk-container\" hidden><div class=\"sk-item\"><div class=\"sk-estimator sk-toggleable\"><input class=\"sk-toggleable__control sk-hidden--visually\" id=\"sk-estimator-id-2\" type=\"checkbox\" checked><label for=\"sk-estimator-id-2\" class=\"sk-toggleable__label sk-toggleable__label-arrow\">LogisticRegression</label><div class=\"sk-toggleable__content\"><pre>LogisticRegression(multi_class=&#x27;ovr&#x27;, solver=&#x27;liblinear&#x27;)</pre></div></div></div></div></div>"
      ],
      "text/plain": [
       "LogisticRegression(multi_class='ovr', solver='liblinear')"
      ]
     },
     "execution_count": 19,
     "metadata": {},
     "output_type": "execute_result"
    }
   ],
   "source": [
    "scaled_x_df_crtrain = minmaxscaling(x_df_crtrain)\n",
    "scaled_x_df_crtest = minmaxscaling(x_df_crtest)\n",
    "log_model.fit(scaled_x_df_crtrain,y_df_crtrain)"
   ]
  },
  {
   "cell_type": "code",
   "execution_count": 20,
   "metadata": {},
   "outputs": [
    {
     "data": {
      "text/plain": [
       "0.45901146476389"
      ]
     },
     "execution_count": 20,
     "metadata": {},
     "output_type": "execute_result"
    }
   ],
   "source": [
    "log_model.score(scaled_x_df_crtest,y_df_crtest)\n",
    "#improved a tiny bit, but not significantly at all, 63/49892 more points classified correctly, but still less than half classified correctly "
   ]
  },
  {
   "cell_type": "markdown",
   "metadata": {},
   "source": [
    "# Multi-Class Logsitic Regression for Data where Missing Values are Imputed #"
   ]
  },
  {
   "cell_type": "code",
   "execution_count": 21,
   "metadata": {},
   "outputs": [
    {
     "data": {
      "text/html": [
       "<style>#sk-container-id-3 {color: black;}#sk-container-id-3 pre{padding: 0;}#sk-container-id-3 div.sk-toggleable {background-color: white;}#sk-container-id-3 label.sk-toggleable__label {cursor: pointer;display: block;width: 100%;margin-bottom: 0;padding: 0.3em;box-sizing: border-box;text-align: center;}#sk-container-id-3 label.sk-toggleable__label-arrow:before {content: \"▸\";float: left;margin-right: 0.25em;color: #696969;}#sk-container-id-3 label.sk-toggleable__label-arrow:hover:before {color: black;}#sk-container-id-3 div.sk-estimator:hover label.sk-toggleable__label-arrow:before {color: black;}#sk-container-id-3 div.sk-toggleable__content {max-height: 0;max-width: 0;overflow: hidden;text-align: left;background-color: #f0f8ff;}#sk-container-id-3 div.sk-toggleable__content pre {margin: 0.2em;color: black;border-radius: 0.25em;background-color: #f0f8ff;}#sk-container-id-3 input.sk-toggleable__control:checked~div.sk-toggleable__content {max-height: 200px;max-width: 100%;overflow: auto;}#sk-container-id-3 input.sk-toggleable__control:checked~label.sk-toggleable__label-arrow:before {content: \"▾\";}#sk-container-id-3 div.sk-estimator input.sk-toggleable__control:checked~label.sk-toggleable__label {background-color: #d4ebff;}#sk-container-id-3 div.sk-label input.sk-toggleable__control:checked~label.sk-toggleable__label {background-color: #d4ebff;}#sk-container-id-3 input.sk-hidden--visually {border: 0;clip: rect(1px 1px 1px 1px);clip: rect(1px, 1px, 1px, 1px);height: 1px;margin: -1px;overflow: hidden;padding: 0;position: absolute;width: 1px;}#sk-container-id-3 div.sk-estimator {font-family: monospace;background-color: #f0f8ff;border: 1px dotted black;border-radius: 0.25em;box-sizing: border-box;margin-bottom: 0.5em;}#sk-container-id-3 div.sk-estimator:hover {background-color: #d4ebff;}#sk-container-id-3 div.sk-parallel-item::after {content: \"\";width: 100%;border-bottom: 1px solid gray;flex-grow: 1;}#sk-container-id-3 div.sk-label:hover label.sk-toggleable__label {background-color: #d4ebff;}#sk-container-id-3 div.sk-serial::before {content: \"\";position: absolute;border-left: 1px solid gray;box-sizing: border-box;top: 0;bottom: 0;left: 50%;z-index: 0;}#sk-container-id-3 div.sk-serial {display: flex;flex-direction: column;align-items: center;background-color: white;padding-right: 0.2em;padding-left: 0.2em;position: relative;}#sk-container-id-3 div.sk-item {position: relative;z-index: 1;}#sk-container-id-3 div.sk-parallel {display: flex;align-items: stretch;justify-content: center;background-color: white;position: relative;}#sk-container-id-3 div.sk-item::before, #sk-container-id-3 div.sk-parallel-item::before {content: \"\";position: absolute;border-left: 1px solid gray;box-sizing: border-box;top: 0;bottom: 0;left: 50%;z-index: -1;}#sk-container-id-3 div.sk-parallel-item {display: flex;flex-direction: column;z-index: 1;position: relative;background-color: white;}#sk-container-id-3 div.sk-parallel-item:first-child::after {align-self: flex-end;width: 50%;}#sk-container-id-3 div.sk-parallel-item:last-child::after {align-self: flex-start;width: 50%;}#sk-container-id-3 div.sk-parallel-item:only-child::after {width: 0;}#sk-container-id-3 div.sk-dashed-wrapped {border: 1px dashed gray;margin: 0 0.4em 0.5em 0.4em;box-sizing: border-box;padding-bottom: 0.4em;background-color: white;}#sk-container-id-3 div.sk-label label {font-family: monospace;font-weight: bold;display: inline-block;line-height: 1.2em;}#sk-container-id-3 div.sk-label-container {text-align: center;}#sk-container-id-3 div.sk-container {/* jupyter's `normalize.less` sets `[hidden] { display: none; }` but bootstrap.min.css set `[hidden] { display: none !important; }` so we also need the `!important` here to be able to override the default hidden behavior on the sphinx rendered scikit-learn.org. See: https://github.com/scikit-learn/scikit-learn/issues/21755 */display: inline-block !important;position: relative;}#sk-container-id-3 div.sk-text-repr-fallback {display: none;}</style><div id=\"sk-container-id-3\" class=\"sk-top-container\"><div class=\"sk-text-repr-fallback\"><pre>LogisticRegression(multi_class=&#x27;ovr&#x27;, solver=&#x27;liblinear&#x27;)</pre><b>In a Jupyter environment, please rerun this cell to show the HTML representation or trust the notebook. <br />On GitHub, the HTML representation is unable to render, please try loading this page with nbviewer.org.</b></div><div class=\"sk-container\" hidden><div class=\"sk-item\"><div class=\"sk-estimator sk-toggleable\"><input class=\"sk-toggleable__control sk-hidden--visually\" id=\"sk-estimator-id-3\" type=\"checkbox\" checked><label for=\"sk-estimator-id-3\" class=\"sk-toggleable__label sk-toggleable__label-arrow\">LogisticRegression</label><div class=\"sk-toggleable__content\"><pre>LogisticRegression(multi_class=&#x27;ovr&#x27;, solver=&#x27;liblinear&#x27;)</pre></div></div></div></div></div>"
      ],
      "text/plain": [
       "LogisticRegression(multi_class='ovr', solver='liblinear')"
      ]
     },
     "execution_count": 21,
     "metadata": {},
     "output_type": "execute_result"
    }
   ],
   "source": [
    "log_model_ci = linear_model.LogisticRegression(multi_class='ovr', solver='liblinear')\n",
    "x_df_citrain = df_clean_impute_train.loc[:, df_clean_remove_train.columns != \"Reason\"]\n",
    "y_df_citrain = df_clean_impute_train[\"Reason\"]\n",
    "x_df_citest = df_clean_impute_test.loc[:, df_clean_remove_train.columns != \"Reason\"]\n",
    "y_df_citest = df_clean_impute_test[\"Reason\"]\n",
    "log_model_ci.fit(x_df_citrain,y_df_citrain)"
   ]
  },
  {
   "cell_type": "code",
   "execution_count": 22,
   "metadata": {},
   "outputs": [
    {
     "data": {
      "text/plain": [
       "0.4739777689559349"
      ]
     },
     "execution_count": 22,
     "metadata": {},
     "output_type": "execute_result"
    }
   ],
   "source": [
    "log_model_ci.score(x_df_citest,y_df_citest)\n",
    "#very low accuracy, but a bit better than the one where missing data is removed "
   ]
  },
  {
   "cell_type": "code",
   "execution_count": 23,
   "metadata": {},
   "outputs": [
    {
     "data": {
      "text/html": [
       "<style>#sk-container-id-4 {color: black;}#sk-container-id-4 pre{padding: 0;}#sk-container-id-4 div.sk-toggleable {background-color: white;}#sk-container-id-4 label.sk-toggleable__label {cursor: pointer;display: block;width: 100%;margin-bottom: 0;padding: 0.3em;box-sizing: border-box;text-align: center;}#sk-container-id-4 label.sk-toggleable__label-arrow:before {content: \"▸\";float: left;margin-right: 0.25em;color: #696969;}#sk-container-id-4 label.sk-toggleable__label-arrow:hover:before {color: black;}#sk-container-id-4 div.sk-estimator:hover label.sk-toggleable__label-arrow:before {color: black;}#sk-container-id-4 div.sk-toggleable__content {max-height: 0;max-width: 0;overflow: hidden;text-align: left;background-color: #f0f8ff;}#sk-container-id-4 div.sk-toggleable__content pre {margin: 0.2em;color: black;border-radius: 0.25em;background-color: #f0f8ff;}#sk-container-id-4 input.sk-toggleable__control:checked~div.sk-toggleable__content {max-height: 200px;max-width: 100%;overflow: auto;}#sk-container-id-4 input.sk-toggleable__control:checked~label.sk-toggleable__label-arrow:before {content: \"▾\";}#sk-container-id-4 div.sk-estimator input.sk-toggleable__control:checked~label.sk-toggleable__label {background-color: #d4ebff;}#sk-container-id-4 div.sk-label input.sk-toggleable__control:checked~label.sk-toggleable__label {background-color: #d4ebff;}#sk-container-id-4 input.sk-hidden--visually {border: 0;clip: rect(1px 1px 1px 1px);clip: rect(1px, 1px, 1px, 1px);height: 1px;margin: -1px;overflow: hidden;padding: 0;position: absolute;width: 1px;}#sk-container-id-4 div.sk-estimator {font-family: monospace;background-color: #f0f8ff;border: 1px dotted black;border-radius: 0.25em;box-sizing: border-box;margin-bottom: 0.5em;}#sk-container-id-4 div.sk-estimator:hover {background-color: #d4ebff;}#sk-container-id-4 div.sk-parallel-item::after {content: \"\";width: 100%;border-bottom: 1px solid gray;flex-grow: 1;}#sk-container-id-4 div.sk-label:hover label.sk-toggleable__label {background-color: #d4ebff;}#sk-container-id-4 div.sk-serial::before {content: \"\";position: absolute;border-left: 1px solid gray;box-sizing: border-box;top: 0;bottom: 0;left: 50%;z-index: 0;}#sk-container-id-4 div.sk-serial {display: flex;flex-direction: column;align-items: center;background-color: white;padding-right: 0.2em;padding-left: 0.2em;position: relative;}#sk-container-id-4 div.sk-item {position: relative;z-index: 1;}#sk-container-id-4 div.sk-parallel {display: flex;align-items: stretch;justify-content: center;background-color: white;position: relative;}#sk-container-id-4 div.sk-item::before, #sk-container-id-4 div.sk-parallel-item::before {content: \"\";position: absolute;border-left: 1px solid gray;box-sizing: border-box;top: 0;bottom: 0;left: 50%;z-index: -1;}#sk-container-id-4 div.sk-parallel-item {display: flex;flex-direction: column;z-index: 1;position: relative;background-color: white;}#sk-container-id-4 div.sk-parallel-item:first-child::after {align-self: flex-end;width: 50%;}#sk-container-id-4 div.sk-parallel-item:last-child::after {align-self: flex-start;width: 50%;}#sk-container-id-4 div.sk-parallel-item:only-child::after {width: 0;}#sk-container-id-4 div.sk-dashed-wrapped {border: 1px dashed gray;margin: 0 0.4em 0.5em 0.4em;box-sizing: border-box;padding-bottom: 0.4em;background-color: white;}#sk-container-id-4 div.sk-label label {font-family: monospace;font-weight: bold;display: inline-block;line-height: 1.2em;}#sk-container-id-4 div.sk-label-container {text-align: center;}#sk-container-id-4 div.sk-container {/* jupyter's `normalize.less` sets `[hidden] { display: none; }` but bootstrap.min.css set `[hidden] { display: none !important; }` so we also need the `!important` here to be able to override the default hidden behavior on the sphinx rendered scikit-learn.org. See: https://github.com/scikit-learn/scikit-learn/issues/21755 */display: inline-block !important;position: relative;}#sk-container-id-4 div.sk-text-repr-fallback {display: none;}</style><div id=\"sk-container-id-4\" class=\"sk-top-container\"><div class=\"sk-text-repr-fallback\"><pre>LogisticRegression(multi_class=&#x27;ovr&#x27;, solver=&#x27;liblinear&#x27;)</pre><b>In a Jupyter environment, please rerun this cell to show the HTML representation or trust the notebook. <br />On GitHub, the HTML representation is unable to render, please try loading this page with nbviewer.org.</b></div><div class=\"sk-container\" hidden><div class=\"sk-item\"><div class=\"sk-estimator sk-toggleable\"><input class=\"sk-toggleable__control sk-hidden--visually\" id=\"sk-estimator-id-4\" type=\"checkbox\" checked><label for=\"sk-estimator-id-4\" class=\"sk-toggleable__label sk-toggleable__label-arrow\">LogisticRegression</label><div class=\"sk-toggleable__content\"><pre>LogisticRegression(multi_class=&#x27;ovr&#x27;, solver=&#x27;liblinear&#x27;)</pre></div></div></div></div></div>"
      ],
      "text/plain": [
       "LogisticRegression(multi_class='ovr', solver='liblinear')"
      ]
     },
     "execution_count": 23,
     "metadata": {},
     "output_type": "execute_result"
    }
   ],
   "source": [
    "scaled_x_df_citrain = minmaxscaling(x_df_citrain)\n",
    "scaled_x_df_citest = minmaxscaling(x_df_citest)\n",
    "log_model_ci.fit(scaled_x_df_citrain,y_df_citrain)"
   ]
  },
  {
   "cell_type": "code",
   "execution_count": 24,
   "metadata": {},
   "outputs": [
    {
     "data": {
      "text/plain": [
       "0.46980944819372766"
      ]
     },
     "execution_count": 24,
     "metadata": {},
     "output_type": "execute_result"
    }
   ],
   "source": [
    "log_model_ci.score(scaled_x_df_citest,y_df_citest)\n",
    "#how come accuracy become lower after scaling wtf idk anymore "
   ]
  },
  {
   "cell_type": "code",
   "execution_count": null,
   "metadata": {},
   "outputs": [],
   "source": []
  }
 ],
 "metadata": {
  "kernelspec": {
   "display_name": "Python 3 (ipykernel)",
   "language": "python",
   "name": "python3"
  },
  "language_info": {
   "codemirror_mode": {
    "name": "ipython",
    "version": 3
   },
   "file_extension": ".py",
   "mimetype": "text/x-python",
   "name": "python",
   "nbconvert_exporter": "python",
   "pygments_lexer": "ipython3",
   "version": "3.11.5"
  }
 },
 "nbformat": 4,
 "nbformat_minor": 2
}
